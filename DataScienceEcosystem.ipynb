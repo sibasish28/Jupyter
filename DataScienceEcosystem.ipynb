{
 "cells": [
  {
   "cell_type": "markdown",
   "id": "0bdfc2f4",
   "metadata": {},
   "source": [
    "<h1> Data Science Tools and Ecosystem <h1>  "
   ]
  },
  {
   "cell_type": "markdown",
   "id": "100b6302",
   "metadata": {},
   "source": [
    "In this notebook, Data Science Tools and Ecosystem are summarized."
   ]
  },
  {
   "cell_type": "markdown",
   "id": "12656c89",
   "metadata": {},
   "source": [
    "Some of the popular languages that Data Scientists use are:\n",
    "1. Python\n",
    "2. R \n",
    "3. Java"
   ]
  },
  {
   "cell_type": "markdown",
   "id": "44edc743",
   "metadata": {},
   "source": [
    "Some of the commonly used libraries used by Data Scientists include:\n",
    "1. Matplotlib\n",
    "2. Numpy\n",
    "3. Pandas"
   ]
  },
  {
   "cell_type": "markdown",
   "id": "e1e6acc5",
   "metadata": {},
   "source": [
    "<table>\n",
    "    <tr>\n",
    "        <th> Data Science Tools </th>\n",
    "    <tr>\n",
    "    <tr><td>Apache Spark</td></tr>\n",
    "    <tr><td>TensorFlow</td></tr>\n",
    "    <tr><td>Scikit-learn</td></tr>\n",
    "</table>"
   ]
  },
  {
   "cell_type": "markdown",
   "id": "ff8308eb",
   "metadata": {},
   "source": [
    "### Below are a few examples of evaluating arithmetic expressions in Python"
   ]
  },
  {
   "cell_type": "code",
   "execution_count": 6,
   "id": "bfd25eae",
   "metadata": {},
   "outputs": [
    {
     "data": {
      "text/plain": [
       "17"
      ]
     },
     "execution_count": 6,
     "metadata": {},
     "output_type": "execute_result"
    }
   ],
   "source": [
    "# This a simple arithmetic expression to mutiply then add integers\n",
    "\n",
    "(3*4)+5"
   ]
  },
  {
   "cell_type": "code",
   "execution_count": 7,
   "id": "64f9b3e5",
   "metadata": {},
   "outputs": [
    {
     "name": "stdout",
     "output_type": "stream",
     "text": [
      "200 minutes is equal to 3.3333333333333335 hours.\n"
     ]
    }
   ],
   "source": [
    "# This will convert 200 minutes to hours by diving by 60\n",
    "\n",
    "def minutes_to_hours(minutes):\n",
    "    hours = minutes / 60\n",
    "    return hours\n",
    "\n",
    "\n",
    "minutes = 200\n",
    "hours = minutes_to_hours(minutes)\n",
    "print(f\"{minutes} minutes is equal to {hours} hours.\")"
   ]
  },
  {
   "cell_type": "markdown",
   "id": "5268b8fb",
   "metadata": {},
   "source": [
    "<b> Objectives: </b>\n",
    "<ul>\n",
    "<li>List of popular languages for Data Science</li>\n",
    "<li>Commonly used libraries used by Data Scientists</li>\n",
    "<li>Evaluating arithmetic expressions</li>\n",
    "<li>Formatting markdown cells</li>\n",
    "</ul>"
   ]
  },
  {
   "cell_type": "markdown",
   "id": "87306f41",
   "metadata": {},
   "source": [
    "## Author:\n",
    "Sibasish Dutta"
   ]
  },
  {
   "cell_type": "code",
   "execution_count": null,
   "id": "8cf732ba",
   "metadata": {},
   "outputs": [],
   "source": []
  }
 ],
 "metadata": {
  "kernelspec": {
   "display_name": "Python 3 (ipykernel)",
   "language": "python",
   "name": "python3"
  },
  "language_info": {
   "codemirror_mode": {
    "name": "ipython",
    "version": 3
   },
   "file_extension": ".py",
   "mimetype": "text/x-python",
   "name": "python",
   "nbconvert_exporter": "python",
   "pygments_lexer": "ipython3",
   "version": "3.11.5"
  }
 },
 "nbformat": 4,
 "nbformat_minor": 5
}
